{
 "cells": [
  {
   "cell_type": "code",
   "execution_count": 1,
   "id": "cf894021-a914-4e50-a971-afd1b75131e3",
   "metadata": {
    "tags": []
   },
   "outputs": [
    {
     "data": {
      "text/html": [
       "<style>\n",
       "@import url(\"https://fonts.googleapis.com/css2?family=Dancing+Script&display=swap\");\n",
       "@import url('https://fonts.googleapis.com/css2?family=Fuggles&display=swap');\n",
       ".journal {\n",
       "  background-color: #f8f5de;\n",
       "  background-image: linear-gradient(to right, rgba(255,210,0,0.4), rgba(200, 160, 0, 0.1) 11%, rgba(0,0,0,0) 35%, rgba(200, 160, 0, 0.1) 65%);\n",
       "  box-shadow: inset 0 0 75px rgba(255,210,0,0.3), inset 0 0 20px rgba(255,210,0,0.4), inset 0 0 30px rgba(220,120,0,0.8);\n",
       "  color: rgba(0,0,0,0.5);\n",
       "  font-size: 1.5em;\n",
       "  font-family: \"Dancing Script\", cursive;\n",
       "  letter-spacing: 0.05em;\n",
       "  line-height: 1.1;\n",
       "  padding: 1em 2em 1em 2em;\n",
       "  width: initial;\n",
       "  max-width: 20em;\n",
       "}\n",
       ".journal_top {\n",
       "  font-size: 1.5em;\n",
       "  font-family: \"Dancing Script\", cursive;\n",
       "  letter-spacing: 0.05em;\n",
       "  line-height: 1.1;\n",
       "  padding: 1em 2em 1em 2em;\n",
       "}\n",
       ".date {\n",
       "    color: rgba(50,10,10,0.5);\n",
       "    margin-bottom: 1em;\n",
       "}\n",
       ".fancycaps {\n",
       "  color: rgba(0,0,0,0.7);\n",
       "  float:left;\n",
       "  font-size: 7em;\n",
       "  line-height: 60px;\n",
       "  padding-right: 12px;\n",
       "  position:relative;\n",
       "  top:8px;\n",
       "}\n",
       ".signature {\n",
       "    width: 100%;\n",
       "    text-align: right;\n",
       "    font-size: 2em;\n",
       "    font-style: italic;\n",
       "    font-family: \"Fuggles\", cursive;\n",
       "    margin-top: 1em;\n",
       "}\n",
       "</style>\n",
       "<div class=\"journal_top\">\n",
       "<h1>Learn Cyclone DDS Python, Chapter 2</h1>\n",
       "<h4>with Captain Corsaro</h4>\n",
       "</div>\n"
      ],
      "text/plain": [
       "<IPython.core.display.HTML object>"
      ]
     },
     "metadata": {},
     "output_type": "display_data"
    }
   ],
   "source": [
    "%%html\n",
    "<style>\n",
    "@import url(\"https://fonts.googleapis.com/css2?family=Dancing+Script&display=swap\");\n",
    "@import url('https://fonts.googleapis.com/css2?family=Fuggles&display=swap');\n",
    ".journal {\n",
    "  background-color: #f8f5de;\n",
    "  background-image: linear-gradient(to right, rgba(255,210,0,0.4), rgba(200, 160, 0, 0.1) 11%, rgba(0,0,0,0) 35%, rgba(200, 160, 0, 0.1) 65%);\n",
    "  box-shadow: inset 0 0 75px rgba(255,210,0,0.3), inset 0 0 20px rgba(255,210,0,0.4), inset 0 0 30px rgba(220,120,0,0.8);\n",
    "  color: rgba(0,0,0,0.5);\n",
    "  font-size: 1.5em;\n",
    "  font-family: \"Dancing Script\", cursive;\n",
    "  letter-spacing: 0.05em;\n",
    "  line-height: 1.1;\n",
    "  padding: 1em 2em 1em 2em;\n",
    "  width: initial;\n",
    "  max-width: 20em;\n",
    "}\n",
    ".journal_top {\n",
    "  font-size: 1.5em;\n",
    "  font-family: \"Dancing Script\", cursive;\n",
    "  letter-spacing: 0.05em;\n",
    "  line-height: 1.1;\n",
    "  padding: 1em 2em 1em 2em;\n",
    "}\n",
    ".date {\n",
    "    color: rgba(50,10,10,0.5);\n",
    "    margin-bottom: 1em;\n",
    "}\n",
    ".fancycaps {\n",
    "  color: rgba(0,0,0,0.7);\n",
    "  float:left;\n",
    "  font-size: 7em;\n",
    "  line-height: 60px;\n",
    "  padding-right: 12px;\n",
    "  position:relative;\n",
    "  top:8px;\n",
    "}\n",
    ".signature {\n",
    "    width: 100%;\n",
    "    text-align: right;\n",
    "    font-size: 2em;\n",
    "    font-style: italic;\n",
    "    font-family: \"Fuggles\", cursive;\n",
    "    margin-top: 1em;\n",
    "}\n",
    "</style>\n",
    "<div class=\"journal_top\">\n",
    "<h1>Learn Cyclone DDS Python, Chapter 2</h1>\n",
    "<h4>with Captain Corsaro</h4>\n",
    "</div>"
   ]
  },
  {
   "cell_type": "markdown",
   "id": "b9bfb171-3157-4832-93ac-854654548bd2",
   "metadata": {},
   "source": [
    "<div class=\"journal\">\n",
    "    <div class=\"date\">June 20th, 1674</div>\n",
    "    <p>Today we made landing on the first island, which I have dubbed Partecipante. Small but plentiful in coconuts, dry wood and root vegetables. The presence of coconuts on this island without any proof of human intervention tells me we are definitely not in the mediterranean anymore, if that wasn't clear from the days travel without land in sight before.</p>\n",
    "    \n",
    "    <p>One of the Dutch crewmates was commenting on the different coconut palm variaties, apparantly amazed by the great local variety in \"koQoSnoten\".</p>\n",
    "    \n",
    "    <div class=\"signature\">Captain A. Corsaro</div>\n",
    "</div>\n",
    "\n",
    "This is chapter 2 of the Cyclone DDS Python tutorial, where we will dive into Qos, Listeners and WaitSets. The basics of topics, readers and writers were explained in [chapter 1](CycloneTutorialChapter1.ipynb) and you can always go back to it."
   ]
  },
  {
   "cell_type": "code",
   "execution_count": 2,
   "id": "e0acdd3d-f413-4a87-beac-431f662e2990",
   "metadata": {},
   "outputs": [
    {
     "name": "stdout",
     "output_type": "stream",
     "text": [
      "6266359370220627297\n"
     ]
    }
   ],
   "source": [
    "from questing import Journal\n",
    "\n",
    "journal = Journal(seed=None, chapter=2)\n",
    "print(journal.seed)"
   ]
  },
  {
   "cell_type": "markdown",
   "id": "ac67bbbc-1e95-49c7-b436-b0d1fea69b64",
   "metadata": {},
   "source": [
    "## koQoSnoten\n",
    "\n",
    "QoS stands for Quality of Service. In DDS you can apply a set of QoS policies to any entity, controlling the behaviour of the DDS system. DDS cannot know which data is critically important and which is actually irrelevant after a few seconds, so QoS allows you to tell DDS the meta-data around data delivery, lifetime and storage. All policies on the writer and reader side together form the \"contract\" that DDS will have to furfill. Here some user discretion is adviced: it is possible to cause incompatibilities between reader and writer with some of the QoS policies, creating a contract that is impossible for DDS to furfill."
   ]
  },
  {
   "cell_type": "code",
   "execution_count": 3,
   "id": "c2ac3cc8-8ba2-4ada-800b-44b6f04878c5",
   "metadata": {},
   "outputs": [
    {
     "data": {
      "text/markdown": [
       "---\n",
       "In Cyclone DDS Python the `Qos` object behaves almost like a tuple of `Policy`.\n",
       "It is immutable but easy to construct. All policies are classes or singletons under the `Policy` object.\n",
       "For example, \"a TransientLocal Durability policy taking no arguments\" would result in `Policy.Durability.TransientLocal` and\n",
       "\"a deadline policy of 15 seconds\" would result in `Policy.Deadline(duration(seconds=15))`. To construct a `Qos` object\n",
       "out of policies you simply pass them as arguments: `qos = Qos(policy1, policy2, ...)`.\n",
       "\n",
       "Tasks:\n",
       " * Create the policies as instructed in comments and pass them to their respective checker.\n",
       "\n",
       "---\n"
      ],
      "text/plain": [
       "<IPython.core.display.Markdown object>"
      ]
     },
     "metadata": {},
     "output_type": "display_data"
    },
    {
     "name": "stdout",
     "output_type": "stream",
     "text": [
      "Policy.Durability.TransientLocal\n",
      "Policy.History.KeepAll\n",
      "Policy.Partition(partitions=('a', 'b'))\n",
      "Policy.Reliability.BestEffort\n",
      "Policy.TransportPriority(priority=4)\n"
     ]
    },
    {
     "data": {
      "text/markdown": [
       "<span style=\"color:green\">Quest koqosnoot completed.</span>"
      ],
      "text/plain": [
       "<IPython.core.display.Markdown object>"
      ]
     },
     "metadata": {},
     "output_type": "display_data"
    }
   ],
   "source": [
    "quest = journal.quest(\"koqosnoot\")\n",
    "quest.prompt()\n",
    "quest.start()\n",
    "\n",
    "from cyclonedds.core import Qos, Policy\n",
    "from cyclonedds.util import duration\n",
    "\n",
    "# Create a Shared or Exclusive Ownership policy. They take no arguments.\n",
    "# The solution is under quest.hint(index=0)\n",
    "policy0 = Policy.Ownership.Shared\n",
    "quest.check(\"policy-0\", policy0)\n",
    "\n",
    "# Create an Automatic Liveliness policy. It takes a lease duration as argument,\n",
    "# make that two days. The solution is under quest.hint(index=1)\n",
    "policy1 = Policy.Liveliness.Automatic(duration(days=2))\n",
    "quest.check(\"policy-1\", policy1)\n",
    "\n",
    "# Create a Qos object with a Reliable Reliability policy, taking a max blocking\n",
    "# time as argument, set that to 250 milliseconds. Also add a KeepAll History\n",
    "# policy, it takes no arguments. The solution is under quest.hint(index=2)\n",
    "qos0 = Qos(Policy.Reliability.Reliable(duration(milliseconds=250)), Policy.History.KeepAll)\n",
    "quest.check(\"koqosnoot-0\", qos0)\n",
    "\n",
    "# Create any Qos object with 4 policies.\n",
    "# An example solution is under quest.hint(index=3)\n",
    "qos1 = Qos(\n",
    "    Policy.Reliability.BestEffort,\n",
    "    Policy.Durability.TransientLocal,\n",
    "    Policy.History.KeepAll,\n",
    "    Policy.Partition([\"a\", \"b\"])\n",
    ")\n",
    "quest.check(\"koqosnoot-1\", qos1)\n",
    "\n",
    "# Create a Qos object with 5 policies by adding one to the previous qos\n",
    "# You can inherit other Qos by giving the keyword argument 'base':\n",
    "#    qos = Qos(policy1, ..., base=other_qos)\n",
    "# An example solution is under quest.hint(index=4)\n",
    "qos2 = Qos(Policy.TransportPriority(4), base=qos1)\n",
    "quest.check(\"koqosnoot-2\", qos2)\n",
    "\n",
    "# Example: you can inspect any QoS object by iteration\n",
    "for policy in qos2:\n",
    "    print(policy)\n",
    "\n",
    "quest.finish()"
   ]
  },
  {
   "cell_type": "code",
   "execution_count": null,
   "id": "5a1ea70d",
   "metadata": {},
   "outputs": [],
   "source": [
    "## Hey! Listen!\n",
    "\n",
    "<div class=\"journal\">\n",
    "    <div class=\"date\">June 21th, 1674</div>\n",
    "    <p>I've always said that in order for your crew to stay alert and efficient you need to make sure they get enough rest. The entire crew is off today for some shore leave, drinking from coconuts and listening to the waves. Tomorrow we shall sail past the other islands and see what secrets they hold.</p>\n",
    "</div>\n",
    "\n",
    "Listeners are a callback mechanism, allowing you to listen to what is going on inside the Cyclone DDS middleware. While a networking infrastructure that is totally abstracted away is nice, sometimes it is necessary to react to something happening on the other side. For example, publishing complex computations while no-one is listening is a waste of CPU-cycles.\n",
    "\n",
    "A Cyclone DDS `Listener` has the following callbacks: `on_data_available`, `on_inconsistent_topic`, `on_liveliness_lost`, `on_liveliness_changed`, `on_offered_deadline_missed`, `on_offered_incompatible_qos`, `on_data_on_readers`, `on_sample_lost`, `on_sample_rejected`, `on_requested_deadline_missed`, `on_requested_incompatible_qos`, `on_publication_matched` and `on_subscription_matched`."
   ]
  },
  {
   "cell_type": "code",
   "execution_count": 4,
   "id": "7c1c1bad-787a-4a70-9083-ebe3474bd885",
   "metadata": {},
   "outputs": [
    {
     "data": {
      "text/markdown": [
       "---\n",
       "\n",
       "Tasks:\n",
       " * Create a `Wave` datatype and topic. A wave has a `height` as integer (centimeters) and a `volume` as float (decibels).\n",
       "    * Check the `Wave` datatype with `quest.check(\"wave\", Wave)`\n",
       " * Import `Listener` from `cyclonedds.core` and create a `MyListener` subclass that sets a `threading.Event` when data is available.\n",
       "    * `on_data_available` receives one extra argument: the reader that has data available. Since we have only one reader you can ignore the argument,\n",
       "      but your function should be able to receive it.\n",
       " * Instantiate the listener, create a DataReader for your topic while attaching the listener and a qos object with a Reliable Reliability policy.\n",
       "    * max_blocking_time is only relevant on the DataWriter side, just set it to something.\n",
       "    * You can add a listener to any entity with a constructor keyword argument `listener=mylistener` argument\n",
       "    * You can add a qos to any entity with a constructor keyword argument `qos=myqos` argument\n",
       "    * Check the reader with `quest.check(\"reader\", reader)`\n",
       " * Wait for the `threading.Event` to fire and read the wave samples iteratively from the datareader\n",
       "    * All samples are passed to `quest.check(\"a-lovely-wave\", wave)\n",
       "\n",
       "---\n"
      ],
      "text/plain": [
       "<IPython.core.display.Markdown object>"
      ]
     },
     "metadata": {},
     "output_type": "display_data"
    },
    {
     "name": "stdout",
     "output_type": "stream",
     "text": [
      "Wave(height=185, loudness=40.97095919865034)\n",
      "Wave(height=195, loudness=42.277819335325304)\n",
      "Wave(height=166, loudness=62.77118469746471)\n",
      "Wave(height=126, loudness=48.77344699161765)\n",
      "Wave(height=142, loudness=41.689676121771264)\n",
      "Wave(height=173, loudness=47.40941964046628)\n",
      "Wave(height=200, loudness=56.75931976002116)\n",
      "Wave(height=125, loudness=44.85452754427212)\n",
      "Wave(height=114, loudness=55.572378995372254)\n",
      "Wave(height=199, loudness=59.72326999466131)\n"
     ]
    },
    {
     "data": {
      "text/markdown": [
       "<span style=\"color:green\">Quest hey-listen completed.</span>"
      ],
      "text/plain": [
       "<IPython.core.display.Markdown object>"
      ]
     },
     "metadata": {},
     "output_type": "display_data"
    }
   ],
   "source": [
    "quest = journal.quest(\"hey-listen\")\n",
    "quest.prompt()\n",
    "quest.start()\n",
    "\n",
    "from pycdr import cdr\n",
    "from cyclonedds.core import Listener, Qos, Policy\n",
    "from cyclonedds.domain import DomainParticipant\n",
    "from cyclonedds.topic import Topic\n",
    "from cyclonedds.sub import DataReader\n",
    "from cyclonedds.util import duration\n",
    "from threading import Event\n",
    "\n",
    "@cdr\n",
    "class Wave:\n",
    "    height: int\n",
    "    loudness: float\n",
    "\n",
    "quest.check(\"wave\", Wave)\n",
    "\n",
    "event = Event()\n",
    "class MyListener(Listener):\n",
    "    def on_data_available(self, reader):\n",
    "        event.set()\n",
    "\n",
    "participant = DomainParticipant()\n",
    "topic = Topic(participant, \"Wave\", Wave)\n",
    "mylistener = MyListener()\n",
    "myqos = Qos(Policy.Reliability.Reliable(duration(milliseconds=200)))\n",
    "reader = DataReader(participant, topic, qos=myqos, listener=mylistener)\n",
    "quest.check(\"reader\", reader)\n",
    "\n",
    "event.wait()\n",
    "\n",
    "for wave in reader.read_iter(timeout=duration(milliseconds=200)):\n",
    "    print(wave)\n",
    "    quest.check(\"a-lovely-wave\", wave)\n",
    "\n",
    "quest.finish()"
   ]
  },
  {
   "cell_type": "code",
   "execution_count": null,
   "id": "7274d3f8-32d8-40f5-9dae-df95390f1632",
   "metadata": {},
   "outputs": [],
   "source": []
  },
  {
   "cell_type": "code",
   "execution_count": null,
   "id": "9820f69d",
   "metadata": {},
   "outputs": [],
   "source": [
    "## Waiting for the tide\n",
    "\n",
    "<div class=\"journal\">\n",
    "    <div class=\"date\">June 22th, 1674</div>\n",
    "    <p>As soon as the tide comes in we are ready to leave.</p>\n",
    "</div>\n",
    "\n",
    "Waitsets allow you to wait for a set of DDS entities. It greatly simplifies blocking execution till one of multiple things trigger. In reality `read_iter` and `take_iter` are also implemented on top of Waitsets. "
   ]
  },
  {
   "cell_type": "code",
   "execution_count": null,
   "id": "9220515e-3851-4149-8f3e-5150a30f8ca6",
   "metadata": {},
   "outputs": [],
   "source": [
    "quest = journal.quest(\"wait-for-the-tide\")\n",
    "quest.prompt()\n",
    "quest.start()\n",
    "\n",
    "from pycdr import cdr\n",
    "from cyclonedds.core import Listener, Qos, Policy\n",
    "from cyclonedds.domain import DomainParticipant\n",
    "from cyclonedds.topic import Topic\n",
    "from cyclonedds.sub import DataReader\n",
    "from cyclonedds.util import duration\n",
    "from cyclonedds.core import ReadCondition, WaitSet, ViewState, InstanceState, SampleState\n",
    "\n",
    "@cdr\n",
    "class Tide:\n",
    "    height: int\n",
    "\n",
    "quest.check(\"tide\", Tide)\n",
    "\n",
    "participant = DomainParticipant()\n",
    "topic1 = Topic(participant, \"TideNorth\", Tide)\n",
    "topic2 = Topic(participant, \"TideSouth\", Tide)\n",
    "reader1 = DataReader(participant, topic1)\n",
    "reader2 = DataReader(participant, topic2)\n",
    "quest.check(\"reader1\", reader1)\n",
    "quest.check(\"reader2\", reader2)\n",
    "\n",
    "waitset = WaitSet(participant)\n",
    "waitset.attach(ReadCondition(reader1, ViewState.Any | InstanceState.Alive | SampleState.NotRead))\n",
    "waitset.attach(ReadCondition(reader2, ViewState.Any | InstanceState.Alive | SampleState.NotRead))\n",
    "\n",
    "waitset.wait()\n",
    "\n",
    "sample = (reader1.read() + reader2.read())[0]\n",
    "\n",
    "print(sample)\n",
    "quest.check(\"first-tide\", sample)\n",
    "\n",
    "quest.finish()"
   ]
  }
 ],
 "metadata": {
  "kernelspec": {
   "display_name": "Python 3 (ipykernel)",
   "language": "python",
   "name": "python3"
  },
  "language_info": {
   "codemirror_mode": {
    "name": "ipython",
    "version": 3
   },
   "file_extension": ".py",
   "mimetype": "text/x-python",
   "name": "python",
   "nbconvert_exporter": "python",
   "pygments_lexer": "ipython3",
   "version": "3.10.0"
  }
 },
 "nbformat": 4,
 "nbformat_minor": 5
}
