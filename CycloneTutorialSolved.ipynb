{
 "cells": [
  {
   "cell_type": "code",
   "execution_count": null,
   "id": "e30192e2-e463-40dc-bc6f-10dfc14c73d6",
   "metadata": {
    "jupyter": {
     "source_hidden": true
    },
    "tags": []
   },
   "outputs": [],
   "source": [
    "%%html\n",
    "<style>\n",
    "@import url(\"https://fonts.googleapis.com/css2?family=Dancing+Script&display=swap\");\n",
    "@import url('https://fonts.googleapis.com/css2?family=Fuggles&display=swap');\n",
    ".journal {\n",
    "  background-color: #f8f5de;\n",
    "  background-image: linear-gradient(to right, rgba(255,210,0,0.4), rgba(200, 160, 0, 0.1) 11%, rgba(0,0,0,0) 35%, rgba(200, 160, 0, 0.1) 65%);\n",
    "  box-shadow: inset 0 0 75px rgba(255,210,0,0.3), inset 0 0 20px rgba(255,210,0,0.4), inset 0 0 30px rgba(220,120,0,0.8);\n",
    "  color: rgba(0,0,0,0.5);\n",
    "  font-size: 1.5em;\n",
    "  font-family: \"Dancing Script\", cursive;\n",
    "  letter-spacing: 0.05em;\n",
    "  line-height: 1.1;\n",
    "  padding: 1em 2em 1em 2em;\n",
    "  width: initial;\n",
    "  max-width: 20em;\n",
    "}\n",
    ".journal_top {\n",
    "  font-size: 1.5em;\n",
    "  font-family: \"Dancing Script\", cursive;\n",
    "  letter-spacing: 0.05em;\n",
    "  line-height: 1.1;\n",
    "  padding: 1em 2em 1em 2em;\n",
    "  width: initial;\n",
    "  max-width: 25em;\n",
    "}\n",
    ".date {\n",
    "    color: rgba(50,10,10,0.5);\n",
    "    margin-bottom: 1em;\n",
    "}\n",
    ".fancycaps {\n",
    "  color: rgba(0,0,0,0.7);\n",
    "  float:left;\n",
    "  font-size: 7em;\n",
    "  line-height: 60px;\n",
    "  padding-right: 12px;\n",
    "  position:relative;\n",
    "  top:8px;\n",
    "}\n",
    ".signature {\n",
    "    width: 100%;\n",
    "    text-align: right;\n",
    "    font-size: 2em;\n",
    "    font-style: italic;\n",
    "    font-family: \"Fuggles\", cursive;\n",
    "    margin-top: 1em;\n",
    "}\n",
    "</style>\n",
    "<div class=\"journal_top\">\n",
    "<h1>Learn Cyclone DDS Python</h1>\n",
    "<h4>with Captain Corsaro</h4>\n",
    "</div>"
   ]
  },
  {
   "cell_type": "markdown",
   "id": "b70303a8-b298-438d-aaee-72effb43b296",
   "metadata": {},
   "source": [
    "Welcome! This interactive tutorial teaches you the basics of DDS and the Cyclone DDS Python backend. To give it a fun spin, we will use DDS to follow along on the journey of Captain Corsaro with his ship Cyclone.\n",
    "\n",
    "<div class=\"journal\">\n",
    "    <div class=\"date\">June 2nd, 1674</div>\n",
    "    This morning we left the harbour of Palermo, setting sail for Tunis. Weather conditions are outstanding, I hope they will hold. Getting some dry-dock time in Palermo was worth it, sailing the Cyclone with a cleaned hull for the first time in years is invigorating. It was expensive though, we need to make a capture as soon as possible.\n",
    "    <div class=\"signature\">Captain A. Corsaro</div>\n",
    "</div>\n",
    "\n",
    "All story fragments from the journal will be presented in boxes like the one above. Explanations and instructions are presented as normal text like this.\n",
    "\n",
    "## Sailing the DDS sea\n",
    "\n",
    "DDS is a publish-subscribe based networking system that allows you to write applications that talk to eachother without worrying about shipping the bits and bytes around and retaining compatibility between platforms and programming languages. We will first explore the different entities central to a DDS system and learn how to create and use them in Python.\n",
    "\n",
    "<div class=\"journal\">\n",
    "    <div class=\"date\">June 7th, 1674</div>\n",
    "    A dreadfull storm has blown us off course, I don't even recognize the stars anymore. We have picked a random direction counter the wind direction of the past few days and hope to find land in not too long. For now I have dubbed the waters here the DDS sea.\n",
    "</div>\n",
    "\n",
    "To join our captain on the DDS sea, or rather *DDS Domain* we use a `DomainParticipant`. A `DomainParticipant` is the central entity in any DDS application. The Domain itself is more of a virtual concept, not directly created but made up of all the participants on a network. You can have multiple domains running next to each other, identified by a *domain id*. They will remain completely separated.\n",
    "\n",
    "\n",
    "The cell below retrieves the captains journal, which tells you what the next quest is. `quest.prompt()` will display the current quest and subtasks. If you are stuck you can call `quest.hint()` to be helped along. `quest.solution()` will give you the full solution if you are really at a loss.\n"
   ]
  },
  {
   "cell_type": "code",
   "execution_count": 2,
   "id": "ebe2cbcb-8de7-4c40-92f2-692620ad6ab6",
   "metadata": {},
   "outputs": [
    {
     "name": "stdout",
     "output_type": "stream",
     "text": [
      "2493937273691845690\n"
     ]
    }
   ],
   "source": [
    "from questing import Journal\n",
    "\n",
    "journal = Journal(seed=None)\n",
    "print(journal.seed)"
   ]
  },
  {
   "cell_type": "code",
   "execution_count": 3,
   "id": "000922c5-20ee-4479-ab4a-b885f9f1ab83",
   "metadata": {},
   "outputs": [
    {
     "data": {
      "text/markdown": [
       "---\n",
       "Sail the DDS seas with a DomainParticipant\n",
       "\n",
       "Tasks:\n",
       " * Import the `DomainParticipant` from `cyclonedds.domain` and instantiate it without arguments.\n",
       " * Pass the `DomainParticipant` to `quest.check(\"domain-participant\", participant)`\n",
       "---\n"
      ],
      "text/plain": [
       "<IPython.core.display.Markdown object>"
      ]
     },
     "metadata": {},
     "output_type": "display_data"
    },
    {
     "data": {
      "text/markdown": [
       "<span style=\"color:green\">Quest domain-participant completed.</span>"
      ],
      "text/plain": [
       "<IPython.core.display.Markdown object>"
      ]
     },
     "metadata": {},
     "output_type": "display_data"
    }
   ],
   "source": [
    "quest = journal.quest(\"domain-participant\")\n",
    "quest.prompt()\n",
    "quest.start()\n",
    "\n",
    "from cyclonedds.domain import DomainParticipant\n",
    "participant = DomainParticipant()\n",
    "\n",
    "quest.check(\"domain-participant\", participant)\n",
    "quest.finish()"
   ]
  },
  {
   "cell_type": "markdown",
   "id": "a2049c06-c5f3-4fad-bf3e-c76a0acf1d8d",
   "metadata": {},
   "source": [
    "# Remaining on-topic\n",
    "\n",
    "<div class=\"journal\">\n",
    "    <div class=\"date\">June 8th, 1674</div>\n",
    "    First Mate Boasson and I have been discussing the curious fish that jump out of the waters all around. We have observed Shimmering, Matte and Metallic looking ones with a varying number of dorsal fins. A group of them seem to be following the ship and we have taken pleasure in naming them.\n",
    "</div>\n",
    "\n",
    "In order for DDS applications to talk to each other they have to be talking about the same thing: the same `Topic`. A `Topic` in DDS consists of a *name* and a *type*. The types are usually defined using the **Object Management Group Interface Definition Language**, OMG IDL or just IDL for short. With the powerful introspection and duck-typing we don't have to rely on an IDL compiler to help us define these types, we can write Python classes directly and let Cyclone DDS Python directly generate the DDS necessities behind the scenes. If you want to learn IDL so you can interop with other languages there are other tutorials available.\n",
    "\n",
    "You can turn Python classes into DDS types by adding the `@cdr` decorator from `pycdr` and type hinting the class attributes, as if you are using [python dataclasses](https://docs.python.org/3/library/dataclasses.html)."
   ]
  },
  {
   "cell_type": "code",
   "execution_count": 4,
   "id": "779f884c-cfa3-4c57-804f-3a4f1c405680",
   "metadata": {},
   "outputs": [
    {
     "data": {
      "text/markdown": [
       "---\n",
       "Create a datatype for the `CuriousFish` that has a `FishType` (Shimmering, Matte or Metallic), an integer number of dorsal fins and a string name.\n",
       "Then import `Topic` from `cyclonedds.topic` and create a `Topic` named `followers`. A `Topic` takes three arguments: a `DomainParticipant`, a name and the datatype.\n",
       "\n",
       "**Note**: your variables persist between cells, you can use the participant from the previous quest!\n",
       "\n",
       "Example datatype:\n",
       "```python\n",
       "@cdr\n",
       "class LogbookEntry:\n",
       "    timestamp: int\n",
       "    text: str\n",
       "    author: str\n",
       "```\n",
       "\n",
       "Tasks:\n",
       " * Pass the `CuriousFish` datatype to `quest.check(\"curious-fish\", CuriousFish)`\n",
       " * Pass the `Topic` you created to `quest.check(\"followers-topic\", topic)`\n",
       "---\n"
      ],
      "text/plain": [
       "<IPython.core.display.Markdown object>"
      ]
     },
     "metadata": {},
     "output_type": "display_data"
    },
    {
     "data": {
      "text/markdown": [
       "<span style=\"color:green\">Quest remain-on-topic completed.</span>"
      ],
      "text/plain": [
       "<IPython.core.display.Markdown object>"
      ]
     },
     "metadata": {},
     "output_type": "display_data"
    }
   ],
   "source": [
    "quest = journal.quest(\"remain-on-topic\")\n",
    "quest.prompt()\n",
    "quest.start()\n",
    "\n",
    "from enum import Enum\n",
    "from pycdr import cdr\n",
    "\n",
    "class FishType(Enum):\n",
    "    Shimmering = 0\n",
    "    Matte = 1\n",
    "    Metallic = 2\n",
    "\n",
    "@cdr\n",
    "class CuriousFish:\n",
    "    fish_type: FishType\n",
    "    dorsal_fins: int\n",
    "    fish_name: str\n",
    "\n",
    "quest.check(\"curious-fish\", CuriousFish)\n",
    "\n",
    "from cyclonedds.topic import Topic\n",
    "topic = Topic(participant, \"followers\", CuriousFish)\n",
    "\n",
    "quest.check(\"followers-topic\", topic)\n",
    "quest.finish()"
   ]
  },
  {
   "cell_type": "markdown",
   "id": "8fa97b96-d7c3-4fd9-9cbc-918009efe8c9",
   "metadata": {},
   "source": [
    "# Taken: A fishy story\n",
    "\n",
    "<div class=\"journal\">\n",
    "    <div class=\"date\">June 12th, 1674</div>\n",
    "    One of the crew finally managed to catch a fish, hopefully we can catch more so we can stretch our food supplies. We have been sailing for five days now without seeing any land or other ship. Are we going the right direction or are we doomed to sail the endless oceans?\n",
    "</div>\n",
    "\n",
    "We will now finally interact with the DDS system. By subscribing to the `follower-fish` topic and `taking` a sample we will discover what the fish our captain talked about actually looked like. This is done through `Subscribers` and `DataReaders`. We will disregard the `Subscriber` for now and only work with a `DataReader`. It has several reading and taking methods that allow you to receive data from the network. They are `read`, `take`, `read_next`, `take_next`, `read_iter`, `take_iter`, `read_aiter` and `take_aiter`. We will stick with a simple `take` for now, which gives you a list of available samples. A *sample* is simply an instance of the datatype of the `Topic`."
   ]
  },
  {
   "cell_type": "code",
   "execution_count": 5,
   "id": "9ca3ddc1-8861-4ac6-a41f-be51f6e9f4f8",
   "metadata": {},
   "outputs": [
    {
     "data": {
      "text/markdown": [
       "---\n",
       "Create a `DataReader`, imported from `cyclonedds.sub` using the participant and the topic as arguments, then take a fish.\n",
       "\n",
       "Tasks:\n",
       " * Pass the `DataReader` you created to `quest.check(\"fish-reader\", reader)`\n",
       " * Pass the `CuriousFish` you took to `quest.check(\"freshly-caught\", fish)`\n",
       "---\n"
      ],
      "text/plain": [
       "<IPython.core.display.Markdown object>"
      ]
     },
     "metadata": {},
     "output_type": "display_data"
    },
    {
     "name": "stdout",
     "output_type": "stream",
     "text": [
      "CuriousFish(fish_type=<FishType.Metallic: 2>, dorsal_fins=3, fish_name='Dee')\n"
     ]
    },
    {
     "data": {
      "text/markdown": [
       "<span style=\"color:green\">Quest a-fishy-story completed.</span>"
      ],
      "text/plain": [
       "<IPython.core.display.Markdown object>"
      ]
     },
     "metadata": {},
     "output_type": "display_data"
    }
   ],
   "source": [
    "quest = journal.quest(\"a-fishy-story\")\n",
    "quest.prompt()\n",
    "quest.start()\n",
    "\n",
    "from cyclonedds.sub import DataReader\n",
    "\n",
    "reader = DataReader(participant, topic)\n",
    "quest.check(\"fish-reader\", reader)\n",
    "\n",
    "fish = reader.take()[0]\n",
    "print(fish)\n",
    "quest.check(\"freshly-caught\", fish)\n",
    "quest.finish()"
   ]
  },
  {
   "cell_type": "markdown",
   "id": "91b3ea42-f0d7-47bc-8665-3e997842dd98",
   "metadata": {},
   "source": [
    "# Growing the fish supply\n",
    "\n",
    "<div class=\"journal\">\n",
    "    <div class=\"date\">June 15th, 1674</div>\n",
    "    Still no land in sight, but at least the fish are tasty. The supply does seem to be dwindling though, that is slightly concerning.\n",
    "</div>\n",
    "\n",
    "We now know how to take a sample but normally these samples don't appear out of thin air: something somewhere has to be *writing* them. This is done with `Publishers` and `DataWriters`, where we again will leave the `Publisher` out for now. A `DataWriter` is instantiated the exact same way as a `DataReader`. A writer can `write` a sample and `dispose` a sample, or do both right after each other with `write_dispose`.\n"
   ]
  },
  {
   "cell_type": "code",
   "execution_count": 6,
   "id": "a720d71b-7ba3-4474-bbf9-5048463e30f4",
   "metadata": {},
   "outputs": [
    {
     "data": {
      "text/markdown": [
       "---\n",
       "Create a `DataWriter`, imported from `cyclonedds.pub` using the participant and the topic as arguments, then write a `CuriousFish`.\n",
       "\n",
       "Tasks:\n",
       " * Pass the `DataWriter` you created to `quest.check(\"fish-writer\", writer)`\n",
       " * Write a `CuriousFish` with parameters of your choosing.\n",
       "\n",
       "---\n"
      ],
      "text/plain": [
       "<IPython.core.display.Markdown object>"
      ]
     },
     "metadata": {},
     "output_type": "display_data"
    },
    {
     "data": {
      "text/markdown": [
       "<span style=\"color:green\">Quest grow-the-fish-supply completed.</span>"
      ],
      "text/plain": [
       "<IPython.core.display.Markdown object>"
      ]
     },
     "metadata": {},
     "output_type": "display_data"
    }
   ],
   "source": [
    "quest = journal.quest(\"grow-the-fish-supply\")\n",
    "quest.prompt()\n",
    "quest.start()\n",
    "\n",
    "from cyclonedds.pub import DataWriter\n",
    "\n",
    "writer = DataWriter(participant, topic)\n",
    "quest.check(\"fish-writer\", writer)\n",
    "\n",
    "fish = CuriousFish(fish_type=FishType.Matte, dorsal_fins=6, fish_name=\"Harry\")\n",
    "writer.write(fish)\n",
    "\n",
    "quest.finish()"
   ]
  },
  {
   "cell_type": "markdown",
   "id": "0d6d101c-c403-47d1-b094-1fffd06ab256",
   "metadata": {},
   "source": [
    "# Land ahoy!\n",
    "\n",
    "<div class=\"journal\">\n",
    "    <div class=\"date\">June 19th, 1674</div>\n",
    "    Quartermaster Koekkoek spotted a small island on the horizon! We are setting sail towards them, and now that we are getting closer we have spotted several other islands. Hopefully we can find some fresh water to replenish our stores and some additions to our food supply would be very appreciated too.\n",
    "</div>\n",
    "\n",
    "Let's put together what we learned so far. Create a new `Island` datatype with an X and Y coordinate as floating points, a floating point Size and a string name. Then create a topic named `DisposedAtolls` and write a new island within `10` near the center `(0,0)` with a size between 1 and 10. Lastly create a reader and read all the samples.\n"
   ]
  },
  {
   "cell_type": "code",
   "execution_count": 7,
   "id": "09ff86f3-25d3-4dca-a07f-d86432f0d8ac",
   "metadata": {},
   "outputs": [
    {
     "data": {
      "text/markdown": [
       "---\n",
       "Tasks:\n",
       " * Create the `Island` datatype and pass it to `quest.check(\"island\", Island)`.\n",
       " * Create the `DisposedAtolls` topic.\n",
       " * Create a `DataWriter` and write a central island. Then check the writer with `quest.check(\"writer-written\", writer)`\n",
       " * Create a `DataReader` and read all samples. Check your resulting set of samples with `quest.check(\"the-disposed-atolls\", islands)`\n",
       "\n",
       "Notes:\n",
       " * You will have to create the reader before you write the new island sample to be able to receive it.\n",
       " * You can use `reader.take(N=100)`\n",
       "    * `N=100` means a maximum of 100 but doesn't block, it returns how many it has now.\n",
       "\n",
       "---\n"
      ],
      "text/plain": [
       "<IPython.core.display.Markdown object>"
      ]
     },
     "metadata": {},
     "output_type": "display_data"
    },
    {
     "data": {
      "text/markdown": [
       "<span style=\"color:green\">Quest land-ahoy completed.</span>"
      ],
      "text/plain": [
       "<IPython.core.display.Markdown object>"
      ]
     },
     "metadata": {},
     "output_type": "display_data"
    },
    {
     "data": {
      "text/html": [
       "<style>@import url(\"https://fonts.googleapis.com/css2?family=Dancing+Script&display=swap\")</style>"
      ],
      "text/plain": [
       "<IPython.core.display.HTML object>"
      ]
     },
     "metadata": {},
     "output_type": "display_data"
    },
    {
     "data": {
      "application/vnd.jupyter.widget-view+json": {
       "model_id": "a5e4030a1ec941ebbc13b461549907e4",
       "version_major": 2,
       "version_minor": 0
      },
      "text/plain": [
       "MultiRoughCanvas(height=480, width=720)"
      ]
     },
     "metadata": {},
     "output_type": "display_data"
    },
    {
     "data": {
      "text/markdown": [
       "\n",
       "            That is it, you have solved all quests in chapter 1. You can now continue with [chapter 2](CycloneTutorialChapter2.ipynb).\n",
       "            "
      ],
      "text/plain": [
       "<IPython.core.display.Markdown object>"
      ]
     },
     "metadata": {},
     "output_type": "display_data"
    }
   ],
   "source": [
    "quest = journal.quest(\"land-ahoy\")\n",
    "quest.prompt()\n",
    "quest.start()\n",
    "\n",
    "@cdr\n",
    "class Island:\n",
    "    X: float\n",
    "    Y: float\n",
    "    size: float\n",
    "    name: str\n",
    "\n",
    "quest.check(\"island\", Island)\n",
    "participant = DomainParticipant()\n",
    "topic = Topic(participant, \"DisposedAtolls\", Island)\n",
    "writer = DataWriter(participant, topic)\n",
    "reader = DataReader(participant, topic)\n",
    "\n",
    "# write central island\n",
    "writer.write(Island(X=0.7, Y=-6.6, size=5, name=\"Dominio\"))\n",
    "quest.check(\"writer-written\", writer)\n",
    "\n",
    "# read all islands\n",
    "islands = reader.take(N=100)\n",
    "quest.check(\"the-disposed-atolls\", islands)\n",
    "\n",
    "quest.finish()"
   ]
  },
  {
   "cell_type": "code",
   "execution_count": null,
   "id": "b0edc16c-c282-4000-8f6d-aa5603c728cb",
   "metadata": {},
   "outputs": [],
   "source": []
  }
 ],
 "metadata": {
  "kernelspec": {
   "display_name": "Python 3",
   "language": "python",
   "name": "python3"
  },
  "language_info": {
   "codemirror_mode": {
    "name": "ipython",
    "version": 3
   },
   "file_extension": ".py",
   "mimetype": "text/x-python",
   "name": "python",
   "nbconvert_exporter": "python",
   "pygments_lexer": "ipython3",
   "version": "3.9.4"
  }
 },
 "nbformat": 4,
 "nbformat_minor": 5
}
