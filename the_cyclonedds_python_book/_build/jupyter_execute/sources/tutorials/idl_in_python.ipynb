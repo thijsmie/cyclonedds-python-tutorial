{
 "cells": [
  {
   "cell_type": "markdown",
   "id": "e9d032ee",
   "metadata": {},
   "source": [
    "(idl-in-python)=\n",
    "# IDL in Python\n",
    "\n",
    "There is no official mapping from IDL 4.2 to Python at the time of writing. However, Cyclone DDS Python implements (nearly) the full spec by leveraging Python metaclasses and typehints. By doing most of the hard work not in the IDL compiler but by runtime type inspection the generated code actually stays very close to a concept from the Python standard library called `dataclasses`, making it feasible to write types by hand directly in Python and skipping the IDL compiler alltogether, which is convinient when your DDS application is Python-only.\n",
    "\n",
    "Not everything you can describe in IDL can be captured using basic Python types, and not every basic Python type can be interpreted as IDL. The [`cyclonedds.idl`](cyclonedds.idl) module contains everything needed to make a consistent mapping between the two.\n",
    "\n",
    "## Mapping\n",
    "\n",
    "### Basic IDL Types\n",
    "\n",
    "While Python has only `int`, `str`, `float` and `bool` as relevant basic types in IDL there are integers and floats of varying byte sizes. To leverage these there is the [`cyclonedds.idl.types`](cyclonedds.idl.types) module which specifies these:"
   ]
  },
  {
   "cell_type": "code",
   "execution_count": null,
   "id": "47782453",
   "metadata": {},
   "outputs": [],
   "source": [
    "from cyclonedds.idl.types import uint8, uint16, uint32, uint64, int8, int16, int32, int64, float32, float64"
   ]
  },
  {
   "cell_type": "markdown",
   "id": "751e0258",
   "metadata": {},
   "source": [
    "At runtime all integer types will just resolve to the base `int` and the float types to `float`. Also, if you use the base Python `int` in your IDL definitions they will map to `int64` and `float` maps to `float64`. Only the background type inspection will note the byte sizes and use these when reading/writing data. For strings and bools you can use `str` and `bool` as normal.\n",
    "\n",
    "### Collections\n",
    "\n",
    "In Python we are used to the `list` and `dict` as our primary datatypes. In IDL there are `sequence`, `array` and `map`, and arguably `bounded_string` is a collection too. Unlike their Python counterparts they are _strongly typed_, meaning that they can only contain items of a specific type. For example, a `sequence<int64>` maps seemlessly to a Python `List[int]` type hint, but the `List[Any]` is not something we can express in IDL. The `array` is something that is not expressable in normal Python type hints at all, fixed-length collections are not a thing in normal Python and using the Python standard library module `array` comes with its own caveats.\n",
    "\n",
    "Again, we can import these types from [`cyclonedds.idl.types`](cyclonedds.idl.types) and use them in a way that is almost 1-to-1 with IDL. The `map` can simply be expressed as `typing.Dict`."
   ]
  },
  {
   "cell_type": "code",
   "execution_count": null,
   "id": "f7a94bf5",
   "metadata": {},
   "outputs": [],
   "source": [
    "from cyclonedds.idl.types import sequence, array, bounded_str\n",
    "from typing import Dict\n",
    "\n",
    "# sequence, equivalent with a List[int]\n",
    "a: sequence[int] = [1, 2, 3]\n",
    "\n",
    "# bounded sequence, List[int] with a max length\n",
    "b: sequence[int, 3] = [1, 2]\n",
    "\n",
    "# arrays, fixed length List[int]\n",
    "c: array[int, 4] = [1, 0, 0, 1]\n",
    "\n",
    "# maps, simply use typing.Dict\n",
    "d: Dict[int, str] = {1: \"Hello,\", 2: \"World!\"}\n",
    "\n",
    "# bounded strings are python str with a max length\n",
    "e: bounded_str[200] = \"This will fit.\""
   ]
  },
  {
   "cell_type": "markdown",
   "id": "8ea995fd",
   "metadata": {},
   "source": [
    "Please note that the specified _bounds_ are not checked by static type checkers or at runtime until the type is serialized.\n",
    "\n",
    "### Structs\n",
    "\n",
    "IDL structs are mapped using Python classes that inherit from [`cyclonedds.idl.IdlStruct`](cyclonedds.idl.IdlStruct). They should be fully type-hinted with only legal type constructs as described on this page. In practice you will also want to decorate the class with a `@dataclass` from the standard library module `dataclasses` to autogenerate a constructor."
   ]
  },
  {
   "cell_type": "code",
   "execution_count": null,
   "id": "30564895",
   "metadata": {},
   "outputs": [],
   "source": [
    "from cyclonedds.idl import IdlStruct\n",
    "from dataclasses import dataclass\n",
    "\n",
    "@dataclass\n",
    "class MyMessage(IdlStruct):\n",
    "    msg: str\n",
    "    sender: str\n",
    "\n",
    "\n",
    "message = MyMessage(msg=\"Hi there!\", sender=\"CycloneDDS\")"
   ]
  },
  {
   "cell_type": "markdown",
   "id": "bfe3d4f5",
   "metadata": {},
   "source": [
    "Behind the scenes `IdlStruct` is doing the heavy lifting here. It makes sure that the `MyMessage` class can be serialized and deserialized in the [CDR](https://www.omg.org/spec/CORBA) and [XCDRV2](https://www.omg.org/spec/DDS-XTypes/) formats as specified by the [OMG](https://www.omg.org/).\n",
    "\n",
    "### Enums\n",
    "\n",
    "The [`IdlEnum`](cyclonedds.idl.IdlEnum) is equivalent to a Python `enum.Enum` with just some behind-the-scenes bookkeeping added that doesn't affect the interface."
   ]
  },
  {
   "cell_type": "code",
   "execution_count": null,
   "id": "51050f30",
   "metadata": {},
   "outputs": [],
   "source": [
    "from cyclonedds.idl import IdlEnum\n",
    "\n",
    "\n",
    "class MyEnum(IdlEnum):\n",
    "    RED = 1\n",
    "    BLUE = 2\n",
    "    GREEN = 3\n"
   ]
  },
  {
   "cell_type": "markdown",
   "id": "0d87a642",
   "metadata": {},
   "source": [
    "### Unions\n",
    "\n",
    "The Python `typing.Union` doesn't map well to the IDL `union` so there is a separate construct, the [`cyclonedds.idl.IdlUnion`](cyclonedds.idl.IdlUnion). It basically functions as a Python class with a bunch of `Optional` members of which only one can be active at a time. Behind the scenes `IdlUnion` generates a constructor for you so no need to `@dataclass` these types.\n",
    "\n",
    "IDL unions are _discriminated_, meaning there is a value that keeps track of which member is active. You can also specify a _default_ member, which is active when the discriminator has a value that is not used for any other member. In Python you have to specify this discriminator using the [`case`](cyclonedds.idl.types.case) and [`default`](cyclonedds.idl.types.default) helpers."
   ]
  },
  {
   "cell_type": "code",
   "execution_count": null,
   "id": "1db35855",
   "metadata": {},
   "outputs": [],
   "source": [
    "from cyclonedds.idl import IdlUnion\n",
    "from cyclonedds.idl.types import case, default, uint8\n",
    "\n",
    "\n",
    "class MyUnion(IdlUnion, discriminator=uint8):\n",
    "    # The case takes a label for the discriminator and a type of the field\n",
    "    msg: case[0, str]\n",
    "\n",
    "    # A case can have multiple labels\n",
    "    userid: case[[1, 2], int]\n",
    "\n",
    "    # But a default has no labels\n",
    "    amount: default[int]\n",
    "\n",
    "\n",
    "# MyUnion will get a generated dataclass-like constructor\n",
    "a = MyUnion(msg=\"Hi! We can only fill one member!\")\n",
    "b = MyUnion(userid=404)\n",
    "c = MyUnion(amount=9001)\n",
    "\n",
    "print(a.discriminator)  # Would print '0'\n",
    "# print(a.userid) -> this would error, non-active member!\n",
    "print(c.discriminator)  # Lowest non-used field, here would be '3'\n",
    "\n",
    "# You can also manually specify discriminator and value\n",
    "d = MyUnion(\n",
    "    discriminator=101,\n",
    "    value=0  # discriminator 101 -> default amount is active\n",
    ")"
   ]
  },
  {
   "cell_type": "markdown",
   "id": "173d1238",
   "metadata": {},
   "source": [
    "For the discriminator you can use up to 4-byte integer types (`int8`, `uint8`, `int16`, `uint16` `int32`, `uint32`) or an `IdlEnum`.\n",
    "\n",
    "### Bitmasks\n",
    "\n",
    "In Python an `IdlBitmask` is nothing more than a `@dataclass` with only booleans. You can use this instead of a normal `IdlStruct` when size matters. A normal `bool` in a `IdlStruct` uses a whole byte when serialized. In an `IdlBitmask` the bools are serialized into a single integer which can reduce the size dramatically if you need to send _a lot_ of booleans."
   ]
  },
  {
   "cell_type": "code",
   "execution_count": null,
   "id": "545c9668",
   "metadata": {},
   "outputs": [],
   "source": [
    "from cyclonedds.idl import IdlBitmask\n",
    "from dataclasses import dataclass\n",
    "\n",
    "@dataclass\n",
    "class MyBitmask(IdlBitmas):\n",
    "    all: bool\n",
    "    of: bool\n",
    "    the: bool\n",
    "    booleans: bool\n",
    "    but: bool\n",
    "    no: bool\n",
    "    other: bool\n",
    "    types: bool"
   ]
  },
  {
   "cell_type": "markdown",
   "id": "c91a9982",
   "metadata": {},
   "source": [
    "## Annotations\n",
    "\n",
    "Annotations are the IDL way to add extra information about a type. The Python implementation of these lives in [`cyclonedds.idl.annotations`](cyclonedds.idl.annotations).\n",
    "\n",
    "### @key\n",
    "\n",
    "Arguably the most important annotation is `@key` which designates a member of a `IdlStruct` as part of the _key_ for a type. The _key_ of a type determines which _instance_ a _sample_ belongs to. For more details on this see [Keys, Instances and Samples](keys-instances-samples).\n",
    "\n",
    "To apply `@key` to a struct member in Python call the [`key`](cyclonedds.idl.annotations.key) annotation function inside the class definition scope:"
   ]
  },
  {
   "cell_type": "code",
   "execution_count": null,
   "id": "f9f11d85",
   "metadata": {},
   "outputs": [],
   "source": [
    "from cyclonedds.idl import IdlStruct\n",
    "from cyclonedds.idl.types import uint64\n",
    "from cyclonedds.idl.annotate import key\n",
    "from dataclasses import dataclass\n",
    "\n",
    "@dataclass\n",
    "class MyMessage(IdlStruct):\n",
    "    msg_id: int\n",
    "    key(msg_id)\n",
    "    msg: str\n",
    "    sender: str\n",
    "\n",
    "message = MyMessage(msg_id=11, msg=\"Hi there!\", sender=\"CycloneDDS\")"
   ]
  },
  {
   "cell_type": "markdown",
   "id": "331d687b",
   "metadata": {},
   "source": [
    "In IDL you can also apply `@key` to a union discriminator. In Python this is captured by using the `discriminator_is_key` class argument:"
   ]
  },
  {
   "cell_type": "code",
   "execution_count": null,
   "id": "5529f4b2",
   "metadata": {},
   "outputs": [],
   "source": [
    "from cyclonedds.idl import IdlUnion\n",
    "from cyclonedds.idl.types import case, default, uint8\n",
    "\n",
    "\n",
    "class MyUnion(IdlUnion, discriminator=uint8, discriminator_is_key=True):\n",
    "    msg: case[0, str]\n",
    "    userid: case[[1, 2], int]\n",
    "    amount: default[int]\n"
   ]
  }
 ],
 "metadata": {
  "jupytext": {
   "formats": "md:myst",
   "text_representation": {
    "extension": ".md",
    "format_name": "myst"
   }
  },
  "kernelspec": {
   "display_name": "Python 3",
   "language": "python",
   "name": "python"
  },
  "source_map": [
   11,
   26,
   28,
   39,
   57,
   65,
   76,
   84,
   93,
   101,
   131,
   139,
   153,
   165,
   179,
   183
  ]
 },
 "nbformat": 4,
 "nbformat_minor": 5
}